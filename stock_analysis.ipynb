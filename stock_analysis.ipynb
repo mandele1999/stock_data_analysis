{
 "cells": [
  {
   "cell_type": "markdown",
   "metadata": {},
   "source": [
    "# Stock Analysis\n",
    "\n",
    "## 1.1 Project Objective\n",
    "\n",
    "The objective of this project is to assist our investment firm in identifying high-potential indexes for short-term investment. By analyzing historical stock data and forecasting future returns, we aim to determine which indexes are most likely to yield favorable returns within a specified period. Additionally, we will assess the associated risks and volatilities of these indexes to guide a balanced investment decision. Our final deliverables include forecasted returns, volatility insights, and strategic recommendations for index fund selection.\n",
    "\n",
    "## 1.2 Motivation\n",
    "\n",
    "Index funds offer a diversified, cost-effective way to gain exposure to market segments, making them an attractive option for institutional investors. However, selecting the right index requires a balance between potential returns and risk tolerance. This project focuses on providing short-term forecasts for several indexes, along with a comprehensive risk assessment, allowing our firm to capitalize on promising market trends while maintaining prudent risk management. By presenting these findings in an accessible format, we aim to support informed decision-making across the firm."
   ]
  },
  {
   "cell_type": "markdown",
   "metadata": {},
   "source": [
    "## Step 2: Data Preparation and Exploration\n",
    "**2.1 Load the Data**"
   ]
  },
  {
   "cell_type": "code",
   "execution_count": 52,
   "metadata": {},
   "outputs": [],
   "source": [
    "# Import libraries\n",
    "import pandas as pd\n",
    "import numpy as np\n",
    "\n",
    "from statsmodels.tsa.arima.model import ARIMA\n",
    "# import pmdarima as pm\n",
    "from statsmodels.tsa.stattools import adfuller\n",
    "\n",
    "import matplotlib.pyplot as plt\n",
    "import seaborn as sns\n",
    "sns.set(style=\"whitegrid\")"
   ]
  },
  {
   "cell_type": "code",
   "execution_count": 3,
   "metadata": {},
   "outputs": [
    {
     "name": "stdout",
     "output_type": "stream",
     "text": [
      "<class 'pandas.core.frame.DataFrame'>\n",
      "RangeIndex: 104224 entries, 0 to 104223\n",
      "Data columns (total 9 columns):\n",
      " #   Column     Non-Null Count   Dtype  \n",
      "---  ------     --------------   -----  \n",
      " 0   Index      104224 non-null  object \n",
      " 1   Date       104224 non-null  object \n",
      " 2   Open       104224 non-null  float64\n",
      " 3   High       104224 non-null  float64\n",
      " 4   Low        104224 non-null  float64\n",
      " 5   Close      104224 non-null  float64\n",
      " 6   Adj Close  104224 non-null  float64\n",
      " 7   Volume     104224 non-null  float64\n",
      " 8   CloseUSD   104224 non-null  float64\n",
      "dtypes: float64(7), object(2)\n",
      "memory usage: 7.2+ MB\n",
      "None\n"
     ]
    },
    {
     "data": {
      "text/html": [
       "<div>\n",
       "<style scoped>\n",
       "    .dataframe tbody tr th:only-of-type {\n",
       "        vertical-align: middle;\n",
       "    }\n",
       "\n",
       "    .dataframe tbody tr th {\n",
       "        vertical-align: top;\n",
       "    }\n",
       "\n",
       "    .dataframe thead th {\n",
       "        text-align: right;\n",
       "    }\n",
       "</style>\n",
       "<table border=\"1\" class=\"dataframe\">\n",
       "  <thead>\n",
       "    <tr style=\"text-align: right;\">\n",
       "      <th></th>\n",
       "      <th>Index</th>\n",
       "      <th>Date</th>\n",
       "      <th>Open</th>\n",
       "      <th>High</th>\n",
       "      <th>Low</th>\n",
       "      <th>Close</th>\n",
       "      <th>Adj Close</th>\n",
       "      <th>Volume</th>\n",
       "      <th>CloseUSD</th>\n",
       "    </tr>\n",
       "  </thead>\n",
       "  <tbody>\n",
       "    <tr>\n",
       "      <th>0</th>\n",
       "      <td>HSI</td>\n",
       "      <td>1986-12-31</td>\n",
       "      <td>2568.300049</td>\n",
       "      <td>2568.300049</td>\n",
       "      <td>2568.300049</td>\n",
       "      <td>2568.300049</td>\n",
       "      <td>2568.300049</td>\n",
       "      <td>0.0</td>\n",
       "      <td>333.879006</td>\n",
       "    </tr>\n",
       "    <tr>\n",
       "      <th>1</th>\n",
       "      <td>HSI</td>\n",
       "      <td>1987-01-02</td>\n",
       "      <td>2540.100098</td>\n",
       "      <td>2540.100098</td>\n",
       "      <td>2540.100098</td>\n",
       "      <td>2540.100098</td>\n",
       "      <td>2540.100098</td>\n",
       "      <td>0.0</td>\n",
       "      <td>330.213013</td>\n",
       "    </tr>\n",
       "    <tr>\n",
       "      <th>2</th>\n",
       "      <td>HSI</td>\n",
       "      <td>1987-01-05</td>\n",
       "      <td>2552.399902</td>\n",
       "      <td>2552.399902</td>\n",
       "      <td>2552.399902</td>\n",
       "      <td>2552.399902</td>\n",
       "      <td>2552.399902</td>\n",
       "      <td>0.0</td>\n",
       "      <td>331.811987</td>\n",
       "    </tr>\n",
       "    <tr>\n",
       "      <th>3</th>\n",
       "      <td>HSI</td>\n",
       "      <td>1987-01-06</td>\n",
       "      <td>2583.899902</td>\n",
       "      <td>2583.899902</td>\n",
       "      <td>2583.899902</td>\n",
       "      <td>2583.899902</td>\n",
       "      <td>2583.899902</td>\n",
       "      <td>0.0</td>\n",
       "      <td>335.906987</td>\n",
       "    </tr>\n",
       "    <tr>\n",
       "      <th>4</th>\n",
       "      <td>HSI</td>\n",
       "      <td>1987-01-07</td>\n",
       "      <td>2607.100098</td>\n",
       "      <td>2607.100098</td>\n",
       "      <td>2607.100098</td>\n",
       "      <td>2607.100098</td>\n",
       "      <td>2607.100098</td>\n",
       "      <td>0.0</td>\n",
       "      <td>338.923013</td>\n",
       "    </tr>\n",
       "  </tbody>\n",
       "</table>\n",
       "</div>"
      ],
      "text/plain": [
       "  Index        Date         Open         High          Low        Close  \\\n",
       "0   HSI  1986-12-31  2568.300049  2568.300049  2568.300049  2568.300049   \n",
       "1   HSI  1987-01-02  2540.100098  2540.100098  2540.100098  2540.100098   \n",
       "2   HSI  1987-01-05  2552.399902  2552.399902  2552.399902  2552.399902   \n",
       "3   HSI  1987-01-06  2583.899902  2583.899902  2583.899902  2583.899902   \n",
       "4   HSI  1987-01-07  2607.100098  2607.100098  2607.100098  2607.100098   \n",
       "\n",
       "     Adj Close  Volume    CloseUSD  \n",
       "0  2568.300049     0.0  333.879006  \n",
       "1  2540.100098     0.0  330.213013  \n",
       "2  2552.399902     0.0  331.811987  \n",
       "3  2583.899902     0.0  335.906987  \n",
       "4  2607.100098     0.0  338.923013  "
      ]
     },
     "execution_count": 3,
     "metadata": {},
     "output_type": "execute_result"
    }
   ],
   "source": [
    "# Load the Dataset\n",
    "df = pd.read_csv('data\\stock_data.csv')\n",
    "\n",
    "# Display basic information\n",
    "print(df.info())\n",
    "df.head()"
   ]
  },
  {
   "cell_type": "markdown",
   "metadata": {},
   "source": [
    "**2.2 Data Cleaning**\n",
    "\n",
    "Let's handle incorrect dtypes, missing values, any duplicates in the data to avoid skewing analysis"
   ]
  },
  {
   "cell_type": "code",
   "execution_count": 6,
   "metadata": {},
   "outputs": [
    {
     "name": "stdout",
     "output_type": "stream",
     "text": [
      "Missing values:\n",
      " Index        0\n",
      "Date         0\n",
      "Open         0\n",
      "High         0\n",
      "Low          0\n",
      "Close        0\n",
      "Adj Close    0\n",
      "Volume       0\n",
      "CloseUSD     0\n",
      "dtype: int64\n"
     ]
    }
   ],
   "source": [
    "# Convert Date to datetime format\n",
    "df['Date'] = pd.to_datetime(df['Date'])\n",
    "\n",
    "# Check for missing values\n",
    "missing_values = df.isnull().sum()\n",
    "print(\"Missing values:\\n\", missing_values)\n",
    "\n",
    "# Drop duplicates if any\n",
    "df = df.drop_duplicates()\n",
    "# df.shape There's no change in shape"
   ]
  },
  {
   "cell_type": "markdown",
   "metadata": {},
   "source": [
    "**2.3 Basic Data Exploration**"
   ]
  },
  {
   "cell_type": "code",
   "execution_count": 12,
   "metadata": {},
   "outputs": [
    {
     "name": "stdout",
     "output_type": "stream",
     "text": [
      "List of Indexes:  ['HSI' 'NYA' 'IXIC' '000001.SS' 'N225' 'N100' '399001.SZ' 'GSPTSE' 'NSEI'\n",
      " 'GDAXI' 'SSMI' 'TWII' 'J203.JO']\n",
      "-------------------------------------------------------\n",
      "Date range: 1965-01-05 00:00:00 to 2021-06-03 00:00:00\n",
      "-------------------------------------------------------\n"
     ]
    },
    {
     "data": {
      "text/html": [
       "<div>\n",
       "<style scoped>\n",
       "    .dataframe tbody tr th:only-of-type {\n",
       "        vertical-align: middle;\n",
       "    }\n",
       "\n",
       "    .dataframe tbody tr th {\n",
       "        vertical-align: top;\n",
       "    }\n",
       "\n",
       "    .dataframe thead th {\n",
       "        text-align: right;\n",
       "    }\n",
       "</style>\n",
       "<table border=\"1\" class=\"dataframe\">\n",
       "  <thead>\n",
       "    <tr style=\"text-align: right;\">\n",
       "      <th></th>\n",
       "      <th>Open</th>\n",
       "      <th>High</th>\n",
       "      <th>Low</th>\n",
       "      <th>Close</th>\n",
       "      <th>Adj Close</th>\n",
       "      <th>Volume</th>\n",
       "      <th>CloseUSD</th>\n",
       "      <th>Daily_Return</th>\n",
       "    </tr>\n",
       "  </thead>\n",
       "  <tbody>\n",
       "    <tr>\n",
       "      <th>count</th>\n",
       "      <td>104224.000000</td>\n",
       "      <td>104224.000000</td>\n",
       "      <td>104224.000000</td>\n",
       "      <td>104224.000000</td>\n",
       "      <td>104224.000000</td>\n",
       "      <td>1.042240e+05</td>\n",
       "      <td>104224.000000</td>\n",
       "      <td>104211.000000</td>\n",
       "    </tr>\n",
       "    <tr>\n",
       "      <th>mean</th>\n",
       "      <td>8015.353334</td>\n",
       "      <td>8063.324234</td>\n",
       "      <td>7962.581120</td>\n",
       "      <td>8014.366642</td>\n",
       "      <td>8014.161269</td>\n",
       "      <td>1.347646e+09</td>\n",
       "      <td>3046.729177</td>\n",
       "      <td>0.000339</td>\n",
       "    </tr>\n",
       "    <tr>\n",
       "      <th>std</th>\n",
       "      <td>9140.563404</td>\n",
       "      <td>9196.575802</td>\n",
       "      <td>9082.767802</td>\n",
       "      <td>9140.609758</td>\n",
       "      <td>9140.720456</td>\n",
       "      <td>4.427662e+09</td>\n",
       "      <td>3747.865623</td>\n",
       "      <td>0.013046</td>\n",
       "    </tr>\n",
       "    <tr>\n",
       "      <th>min</th>\n",
       "      <td>54.869999</td>\n",
       "      <td>54.869999</td>\n",
       "      <td>54.869999</td>\n",
       "      <td>54.869999</td>\n",
       "      <td>54.869999</td>\n",
       "      <td>0.000000e+00</td>\n",
       "      <td>10.204900</td>\n",
       "      <td>-0.333304</td>\n",
       "    </tr>\n",
       "    <tr>\n",
       "      <th>25%</th>\n",
       "      <td>2046.887756</td>\n",
       "      <td>2057.213990</td>\n",
       "      <td>2037.185943</td>\n",
       "      <td>2047.506470</td>\n",
       "      <td>2047.358490</td>\n",
       "      <td>0.000000e+00</td>\n",
       "      <td>320.460898</td>\n",
       "      <td>-0.005297</td>\n",
       "    </tr>\n",
       "    <tr>\n",
       "      <th>50%</th>\n",
       "      <td>5772.140137</td>\n",
       "      <td>5812.764892</td>\n",
       "      <td>5725.199951</td>\n",
       "      <td>5773.710205</td>\n",
       "      <td>5773.710205</td>\n",
       "      <td>9.529000e+05</td>\n",
       "      <td>1371.598486</td>\n",
       "      <td>0.000630</td>\n",
       "    </tr>\n",
       "    <tr>\n",
       "      <th>75%</th>\n",
       "      <td>10487.377445</td>\n",
       "      <td>10552.179690</td>\n",
       "      <td>10416.092287</td>\n",
       "      <td>10488.622560</td>\n",
       "      <td>10488.622560</td>\n",
       "      <td>2.064676e+08</td>\n",
       "      <td>4383.045241</td>\n",
       "      <td>0.006354</td>\n",
       "    </tr>\n",
       "    <tr>\n",
       "      <th>max</th>\n",
       "      <td>68775.062500</td>\n",
       "      <td>69403.750000</td>\n",
       "      <td>68516.992190</td>\n",
       "      <td>68775.062500</td>\n",
       "      <td>68775.062500</td>\n",
       "      <td>9.440374e+10</td>\n",
       "      <td>18934.376173</td>\n",
       "      <td>0.188236</td>\n",
       "    </tr>\n",
       "  </tbody>\n",
       "</table>\n",
       "</div>"
      ],
      "text/plain": [
       "                Open           High            Low          Close  \\\n",
       "count  104224.000000  104224.000000  104224.000000  104224.000000   \n",
       "mean     8015.353334    8063.324234    7962.581120    8014.366642   \n",
       "std      9140.563404    9196.575802    9082.767802    9140.609758   \n",
       "min        54.869999      54.869999      54.869999      54.869999   \n",
       "25%      2046.887756    2057.213990    2037.185943    2047.506470   \n",
       "50%      5772.140137    5812.764892    5725.199951    5773.710205   \n",
       "75%     10487.377445   10552.179690   10416.092287   10488.622560   \n",
       "max     68775.062500   69403.750000   68516.992190   68775.062500   \n",
       "\n",
       "           Adj Close        Volume       CloseUSD   Daily_Return  \n",
       "count  104224.000000  1.042240e+05  104224.000000  104211.000000  \n",
       "mean     8014.161269  1.347646e+09    3046.729177       0.000339  \n",
       "std      9140.720456  4.427662e+09    3747.865623       0.013046  \n",
       "min        54.869999  0.000000e+00      10.204900      -0.333304  \n",
       "25%      2047.358490  0.000000e+00     320.460898      -0.005297  \n",
       "50%      5773.710205  9.529000e+05    1371.598486       0.000630  \n",
       "75%     10488.622560  2.064676e+08    4383.045241       0.006354  \n",
       "max     68775.062500  9.440374e+10   18934.376173       0.188236  "
      ]
     },
     "execution_count": 12,
     "metadata": {},
     "output_type": "execute_result"
    }
   ],
   "source": [
    "print('List of Indexes: ', df['Index'].unique())\n",
    "print('-'*55)\n",
    "# Check the date range\n",
    "print(\"Date range:\", df['Date'].min(), \"to\", df['Date'].max())\n",
    "print('-'*55)\n",
    "# Calculate daily returns\n",
    "df['Daily_Return'] = df.groupby('Index')['Close'].pct_change()\n",
    "# Summary statistics\n",
    "df.describe()"
   ]
  },
  {
   "cell_type": "markdown",
   "metadata": {},
   "source": [
    "**2.4 Exploration Data Analysis**\n",
    "\n",
    "Let's explore a few aspects of our stock to get more insights of the indexes we have. Focus will be on these key areas:\n",
    "\n",
    "- **Average Returns**: Let's calculate the mean daily return for each index to indentify those with higher average performance historically\n",
    "- **Annualized Volatility**: Calculate volatility to understand the indexes that have been more or less stable over time\n",
    "- **Visualization**:Visualize daily closing prices for a few indexes to observe general trends over time"
   ]
  },
  {
   "cell_type": "code",
   "execution_count": 47,
   "metadata": {},
   "outputs": [
    {
     "data": {
      "image/png": "[encoded data removed]",
      "text/plain": [
       "<Figure size 720x432 with 1 Axes>"
      ]
     },
     "metadata": {},
     "output_type": "display_data"
    },
    {
     "data": {
      "image/png": "[encoded data removed]",
      "text/plain": [
       "<Figure size 720x432 with 1 Axes>"
      ]
     },
     "metadata": {},
     "output_type": "display_data"
    },
    {
     "data": {
      "image/png": "[encoded data removed]",
      "text/plain": [
       "<Figure size 720x432 with 1 Axes>"
      ]
     },
     "metadata": {},
     "output_type": "display_data"
    }
   ],
   "source": [
    "# 1. Daily Returns\n",
    "# Average daily return for each index\n",
    "average_returns = df.groupby('Index')['Daily_Return'].mean()\n",
    "# Sort values\n",
    "average_returns = average_returns.sort_values(ascending=False)\n",
    "\n",
    "# Plot Daily Avg returns using Seaborn\n",
    "plt.figure(figsize=(10, 6))\n",
    "sns.barplot(x=average_returns.values, y=average_returns.index, color='skyblue')\n",
    "plt.title('Daily Average Returns of Each Index', fontsize=16)\n",
    "plt.xlabel('Daily Average Returns', fontsize=13)\n",
    "plt.ylabel('Stock Index', fontsize=13)\n",
    "plt.show()\n",
    "\n",
    "# 2. Volatility\n",
    "# Calculate annualized volatility (assuming ~252 trading days in a year)\n",
    "annual_volatility = df.groupby('Index')['Daily_Return'].std() * np.sqrt(252)\n",
    "# Sort values\n",
    "annual_volatility = annual_volatility.sort_values(ascending=True)\n",
    "\n",
    "# Plot volatility comparison using Seaborn\n",
    "plt.figure(figsize=(10, 6))\n",
    "sns.barplot(x=annual_volatility.values, y=annual_volatility.index, color='skyblue')\n",
    "plt.title('Annualized Volatility of Each Index', fontsize=16)\n",
    "plt.xlabel('Annual Volatility', fontsize=13)\n",
    "plt.ylabel('Stock Index', fontsize=13)\n",
    "plt.show()\n",
    "\n",
    "# 3. Closing Prices\n",
    "# Closing prices of a specific index over time\n",
    "# Filter for an index\n",
    "stock_index = df[df['Index'] == 'GSPTSE']\n",
    "\n",
    "# Plot closing prices over time using Seaborn\n",
    "plt.figure(figsize=(10, 6))\n",
    "sns.lineplot(x='Date', y='Close', data=stock_index, label=\"GSPTSE\", color=\"blue\")\n",
    "plt.title(\"GSPTSE Closing Prices Over Time\", fontsize=16)\n",
    "plt.xlabel(\"Date\", fontsize=13)\n",
    "plt.ylabel(\"Close Price\", fontsize=13)\n",
    "plt.legend()\n",
    "plt.show()"
   ]
  },
  {
   "cell_type": "markdown",
   "metadata": {},
   "source": [
    "**2.5 Selecting Promising Indexes**\n",
    "\n",
    "We'll use the `average daily returns` and `annualized volatility` calculated above to identify indexes with promising returns and acceptable levels of risk then create a shortlist of 3-5 indexes with favorable performance metrics to focus on in forecasting."
   ]
  },
  {
   "cell_type": "code",
   "execution_count": 48,
   "metadata": {},
   "outputs": [
    {
     "name": "stdout",
     "output_type": "stream",
     "text": [
      "Top indexes based on returns and volatility:\n",
      "            Average_Return  Annual_Volatility\n",
      "NSEI             0.000474           0.227180\n",
      "IXIC             0.000467           0.198867\n",
      "GDAXI            0.000423           0.223143\n",
      "HSI              0.000419           0.256077\n",
      "399001.SZ        0.000372           0.278256\n"
     ]
    }
   ],
   "source": [
    "# Combining returns and volatility into a single DataFrame\n",
    "performance_metrics = pd.DataFrame({\n",
    "    'Average_Return': average_returns,\n",
    "    'Annual_Volatility': annual_volatility\n",
    "})\n",
    "# # Display the indexes sorted by Average Return\n",
    "# print(\"Indexes sorted by average return:\\n\", performance_metrics.sort_values(by=\"Average_Return\", ascending=False))\n",
    "\n",
    "# Shortlist top indexes based on return and volatility criteria\n",
    "top_indexes = performance_metrics.nlargest(5, 'Average_Return')\n",
    "print(\"Top indexes based on returns and volatility:\\n\", top_indexes)\n"
   ]
  },
  {
   "cell_type": "markdown",
   "metadata": {},
   "source": [
    "**Summary of Findings and Preparation for Next Steps**\n",
    "- Based on the historical data, `NSEI` and `IXIC` yielded the highest daily average returns.\n",
    "- `GSPTSE` and `NYA` were the most stable stock over the years showing the least annual volatility rate\n",
    "- Despite `399001.SZ` being among the best (5th) performing indexes in term of daily average returns, it's the most unstable stock with the highest annual volatility rate\n",
    "- Our candidates for short-term forecasting in the next steps will be: `NSEI, IXIC, GDAXI, HSI, 39001.SZ`\n",
    "\n",
    "With our shortlist of promising indexes, we can now move into forecasting, where we’ll project short-term returns for these specific indexes."
   ]
  },
  {
   "cell_type": "markdown",
   "metadata": {},
   "source": [
    "## Step 3. Forecasting Approach\n",
    "**3.1 Forecasting Objective**\n",
    "\n",
    "Our goal is to create a short-term forecasts of daily returns or closing prices for the promising indexes.\n",
    "\n",
    "Forecasting horizon will be 30 days, as specified by the firm's interest in short-term predictions\n",
    "\n",
    "For simplicity and intepretability, our model of choice will be ARIMA (Auto-Regressive Integrated Moving Average) which is well-suited for time series and can provide short-term forecasts\n",
    "\n",
    "**3.2 Prepare Data for Forecasting**\n",
    "\n",
    "Let's start with one of the promising indexes and filter data then perform a stationarity check with Augmented Dickey-Fuller which is required for ARIMA models and, if needed, apply transformations to make the data stationary. If p-value < 0.05, the series is stationary, otherwise we may need to difference."
   ]
  },
  {
   "cell_type": "code",
   "execution_count": 53,
   "metadata": {},
   "outputs": [
    {
     "name": "stdout",
     "output_type": "stream",
     "text": [
      "ADF Statistic: 0.6187345900463721\n",
      "p-value: 0.9880684159456664\n"
     ]
    }
   ],
   "source": [
    "# Filter data for a single index\n",
    "index_data = df[df['Index'] == 'NSEI']\n",
    "\n",
    "# Check for stationarity with the ADF test on the closing price\n",
    "result = adfuller(index_data['Close'].dropna())\n",
    "print(\"ADF Statistic:\", result[0])\n",
    "print(\"p-value:\", result[1])"
   ]
  },
  {
   "cell_type": "markdown",
   "metadata": {},
   "source": [
    "With an ADF statistic of 0.619 and a p-value of 0.988, the data is `non-stationary`. This high p-value (greater than 0.05) suggests that we fail to reject the null hypothesis of the ADF test, meaning the series likely has a trend or other non-stationary patterns.\n",
    "\n",
    "For non-stationary data, a common solution is differencing the series to make it stationary. Differencing (i.e., subtract each observation from the previous one) removes trends and helps stabilize the mean of the time series.\n",
    "\n",
    "Let's go ahead and apply differencing and check for stationarity again"
   ]
  },
  {
   "cell_type": "code",
   "execution_count": 54,
   "metadata": {},
   "outputs": [
    {
     "name": "stdout",
     "output_type": "stream",
     "text": [
      "ADF Statistic (Differenced): -15.722841006256129\n",
      "p-value (Differenced): 1.3175505760754613e-28\n"
     ]
    }
   ],
   "source": [
    "# First differencing\n",
    "df['Close_Diff'] = df.groupby('Index')['Close'].diff()\n",
    "\n",
    "# Filter data for the index you're analyzing,\n",
    "index_data_diff = df[df['Index'] == 'NSEI']['Close_Diff'].dropna()\n",
    "\n",
    "# ADF test on differenced data\n",
    "result_diff = adfuller(index_data_diff)\n",
    "print(\"ADF Statistic (Differenced):\", result_diff[0])\n",
    "print(\"p-value (Differenced):\", result_diff[1])\n",
    "\n",
    "# Interpretation: If p-value < 0.05, the differenced series is stationary.\n"
   ]
  },
  {
   "cell_type": "markdown",
   "metadata": {},
   "source": [
    "We won't be differencing our data any further as we can see our p-value is less than 0.05 implying our data is now stationary and we can proceed to the use it in the ARIMA model"
   ]
  }
 ],
 "metadata": {
  "kernelspec": {
   "display_name": "learn-env",
   "language": "python",
   "name": "python3"
  },
  "language_info": {
   "codemirror_mode": {
    "name": "ipython",
    "version": 3
   },
   "file_extension": ".py",
   "mimetype": "text/x-python",
   "name": "python",
   "nbconvert_exporter": "python",
   "pygments_lexer": "ipython3",
   "version": "3.8.5"
  }
 },
 "nbformat": 4,
 "nbformat_minor": 2
}
