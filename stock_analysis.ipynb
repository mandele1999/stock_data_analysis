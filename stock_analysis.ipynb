{
 "cells": [
  {
   "cell_type": "markdown",
   "metadata": {},
   "source": [
    "# Stock Analysis\n",
    "\n",
    "## 1.1 Project Objective\n",
    "\n",
    "The objective of this project is to assist our investment firm in identifying high-potential indexes for short-term investment. By analyzing historical stock data and forecasting future returns, we aim to determine which indexes are most likely to yield favorable returns within a specified period. Additionally, we will assess the associated risks and volatilities of these indexes to guide a balanced investment decision. Our final deliverables include forecasted returns, volatility insights, and strategic recommendations for index fund selection.\n",
    "\n",
    "## 1.2 Motivation\n",
    "\n",
    "Index funds offer a diversified, cost-effective way to gain exposure to market segments, making them an attractive option for institutional investors. However, selecting the right index requires a balance between potential returns and risk tolerance. This project focuses on providing short-term forecasts for several indexes, along with a comprehensive risk assessment, allowing our firm to capitalize on promising market trends while maintaining prudent risk management. By presenting these findings in an accessible format, we aim to support informed decision-making across the firm."
   ]
  },
  {
   "cell_type": "markdown",
   "metadata": {},
   "source": [
    "## Step 2: Data Preparation and Exploration\n",
    "**2.1 Load the Data**"
   ]
  },
  {
   "cell_type": "code",
   "execution_count": 28,
   "metadata": {},
   "outputs": [],
   "source": [
    "# Import libraries\n",
    "import pandas as pd\n",
    "import numpy as np\n",
    "\n",
    "from statsmodels.tsa.arima.model import ARIMA\n",
    "import pmdarima as pm\n",
    "from statsmodels.tsa.stattools import adfuller\n",
    "from sklearn.metrics import mean_absolute_error, mean_squared_error\n",
    "\n",
    "import matplotlib.pyplot as plt\n",
    "import seaborn as sns\n",
    "sns.set(style=\"whitegrid\")\n",
    "\n",
    "import warnings\n",
    "warnings.filterwarnings(\"ignore\")"
   ]
  },
  {
   "cell_type": "code",
   "execution_count": 3,
   "metadata": {},
   "outputs": [
    {
     "name": "stdout",
     "output_type": "stream",
     "text": [
      "<class 'pandas.core.frame.DataFrame'>\n",
      "RangeIndex: 104224 entries, 0 to 104223\n",
      "Data columns (total 9 columns):\n",
      " #   Column     Non-Null Count   Dtype  \n",
      "---  ------     --------------   -----  \n",
      " 0   Index      104224 non-null  object \n",
      " 1   Date       104224 non-null  object \n",
      " 2   Open       104224 non-null  float64\n",
      " 3   High       104224 non-null  float64\n",
      " 4   Low        104224 non-null  float64\n",
      " 5   Close      104224 non-null  float64\n",
      " 6   Adj Close  104224 non-null  float64\n",
      " 7   Volume     104224 non-null  float64\n",
      " 8   CloseUSD   104224 non-null  float64\n",
      "dtypes: float64(7), object(2)\n",
      "memory usage: 7.2+ MB\n",
      "None\n"
     ]
    },
    {
     "data": {
      "text/html": [
       "<div>\n",
       "<style scoped>\n",
       "    .dataframe tbody tr th:only-of-type {\n",
       "        vertical-align: middle;\n",
       "    }\n",
       "\n",
       "    .dataframe tbody tr th {\n",
       "        vertical-align: top;\n",
       "    }\n",
       "\n",
       "    .dataframe thead th {\n",
       "        text-align: right;\n",
       "    }\n",
       "</style>\n",
       "<table border=\"1\" class=\"dataframe\">\n",
       "  <thead>\n",
       "    <tr style=\"text-align: right;\">\n",
       "      <th></th>\n",
       "      <th>Index</th>\n",
       "      <th>Date</th>\n",
       "      <th>Open</th>\n",
       "      <th>High</th>\n",
       "      <th>Low</th>\n",
       "      <th>Close</th>\n",
       "      <th>Adj Close</th>\n",
       "      <th>Volume</th>\n",
       "      <th>CloseUSD</th>\n",
       "    </tr>\n",
       "  </thead>\n",
       "  <tbody>\n",
       "    <tr>\n",
       "      <th>0</th>\n",
       "      <td>HSI</td>\n",
       "      <td>1986-12-31</td>\n",
       "      <td>2568.300049</td>\n",
       "      <td>2568.300049</td>\n",
       "      <td>2568.300049</td>\n",
       "      <td>2568.300049</td>\n",
       "      <td>2568.300049</td>\n",
       "      <td>0.0</td>\n",
       "      <td>333.879006</td>\n",
       "    </tr>\n",
       "    <tr>\n",
       "      <th>1</th>\n",
       "      <td>HSI</td>\n",
       "      <td>1987-01-02</td>\n",
       "      <td>2540.100098</td>\n",
       "      <td>2540.100098</td>\n",
       "      <td>2540.100098</td>\n",
       "      <td>2540.100098</td>\n",
       "      <td>2540.100098</td>\n",
       "      <td>0.0</td>\n",
       "      <td>330.213013</td>\n",
       "    </tr>\n",
       "    <tr>\n",
       "      <th>2</th>\n",
       "      <td>HSI</td>\n",
       "      <td>1987-01-05</td>\n",
       "      <td>2552.399902</td>\n",
       "      <td>2552.399902</td>\n",
       "      <td>2552.399902</td>\n",
       "      <td>2552.399902</td>\n",
       "      <td>2552.399902</td>\n",
       "      <td>0.0</td>\n",
       "      <td>331.811987</td>\n",
       "    </tr>\n",
       "    <tr>\n",
       "      <th>3</th>\n",
       "      <td>HSI</td>\n",
       "      <td>1987-01-06</td>\n",
       "      <td>2583.899902</td>\n",
       "      <td>2583.899902</td>\n",
       "      <td>2583.899902</td>\n",
       "      <td>2583.899902</td>\n",
       "      <td>2583.899902</td>\n",
       "      <td>0.0</td>\n",
       "      <td>335.906987</td>\n",
       "    </tr>\n",
       "    <tr>\n",
       "      <th>4</th>\n",
       "      <td>HSI</td>\n",
       "      <td>1987-01-07</td>\n",
       "      <td>2607.100098</td>\n",
       "      <td>2607.100098</td>\n",
       "      <td>2607.100098</td>\n",
       "      <td>2607.100098</td>\n",
       "      <td>2607.100098</td>\n",
       "      <td>0.0</td>\n",
       "      <td>338.923013</td>\n",
       "    </tr>\n",
       "  </tbody>\n",
       "</table>\n",
       "</div>"
      ],
      "text/plain": [
       "  Index        Date         Open         High          Low        Close  \\\n",
       "0   HSI  1986-12-31  2568.300049  2568.300049  2568.300049  2568.300049   \n",
       "1   HSI  1987-01-02  2540.100098  2540.100098  2540.100098  2540.100098   \n",
       "2   HSI  1987-01-05  2552.399902  2552.399902  2552.399902  2552.399902   \n",
       "3   HSI  1987-01-06  2583.899902  2583.899902  2583.899902  2583.899902   \n",
       "4   HSI  1987-01-07  2607.100098  2607.100098  2607.100098  2607.100098   \n",
       "\n",
       "     Adj Close  Volume    CloseUSD  \n",
       "0  2568.300049     0.0  333.879006  \n",
       "1  2540.100098     0.0  330.213013  \n",
       "2  2552.399902     0.0  331.811987  \n",
       "3  2583.899902     0.0  335.906987  \n",
       "4  2607.100098     0.0  338.923013  "
      ]
     },
     "execution_count": 3,
     "metadata": {},
     "output_type": "execute_result"
    }
   ],
   "source": [
    "# Load the Dataset\n",
    "df = pd.read_csv('data\\stock_data.csv')\n",
    "\n",
    "# Display basic information\n",
    "print(df.info())\n",
    "df.head()"
   ]
  },
  {
   "cell_type": "markdown",
   "metadata": {},
   "source": [
    "**2.2 Data Cleaning**\n",
    "\n",
    "Let's handle incorrect dtypes, missing values, any duplicates in the data to avoid skewing analysis"
   ]
  },
  {
   "cell_type": "code",
   "execution_count": 4,
   "metadata": {},
   "outputs": [
    {
     "name": "stdout",
     "output_type": "stream",
     "text": [
      "Missing values:\n",
      " Index        0\n",
      "Date         0\n",
      "Open         0\n",
      "High         0\n",
      "Low          0\n",
      "Close        0\n",
      "Adj Close    0\n",
      "Volume       0\n",
      "CloseUSD     0\n",
      "dtype: int64\n"
     ]
    }
   ],
   "source": [
    "# Convert Date to datetime format\n",
    "df['Date'] = pd.to_datetime(df['Date'])\n",
    "\n",
    "# Check for missing values\n",
    "missing_values = df.isnull().sum()\n",
    "print(\"Missing values:\\n\", missing_values)\n",
    "\n",
    "# Drop duplicates if any\n",
    "df = df.drop_duplicates()\n",
    "# df.shape There's no change in shape"
   ]
  },
  {
   "cell_type": "markdown",
   "metadata": {},
   "source": [
    "**2.3 Basic Data Exploration**"
   ]
  },
  {
   "cell_type": "code",
   "execution_count": 5,
   "metadata": {},
   "outputs": [
    {
     "name": "stdout",
     "output_type": "stream",
     "text": [
      "List of Indexes:  ['HSI' 'NYA' 'IXIC' '000001.SS' 'N225' 'N100' '399001.SZ' 'GSPTSE' 'NSEI'\n",
      " 'GDAXI' 'SSMI' 'TWII' 'J203.JO']\n",
      "-------------------------------------------------------\n",
      "Date range: 1965-01-05 00:00:00 to 2021-06-03 00:00:00\n",
      "-------------------------------------------------------\n"
     ]
    },
    {
     "data": {
      "text/html": [
       "<div>\n",
       "<style scoped>\n",
       "    .dataframe tbody tr th:only-of-type {\n",
       "        vertical-align: middle;\n",
       "    }\n",
       "\n",
       "    .dataframe tbody tr th {\n",
       "        vertical-align: top;\n",
       "    }\n",
       "\n",
       "    .dataframe thead th {\n",
       "        text-align: right;\n",
       "    }\n",
       "</style>\n",
       "<table border=\"1\" class=\"dataframe\">\n",
       "  <thead>\n",
       "    <tr style=\"text-align: right;\">\n",
       "      <th></th>\n",
       "      <th>Open</th>\n",
       "      <th>High</th>\n",
       "      <th>Low</th>\n",
       "      <th>Close</th>\n",
       "      <th>Adj Close</th>\n",
       "      <th>Volume</th>\n",
       "      <th>CloseUSD</th>\n",
       "      <th>Daily_Return</th>\n",
       "    </tr>\n",
       "  </thead>\n",
       "  <tbody>\n",
       "    <tr>\n",
       "      <th>count</th>\n",
       "      <td>104224.000000</td>\n",
       "      <td>104224.000000</td>\n",
       "      <td>104224.000000</td>\n",
       "      <td>104224.000000</td>\n",
       "      <td>104224.000000</td>\n",
       "      <td>1.042240e+05</td>\n",
       "      <td>104224.000000</td>\n",
       "      <td>104211.000000</td>\n",
       "    </tr>\n",
       "    <tr>\n",
       "      <th>mean</th>\n",
       "      <td>8015.353334</td>\n",
       "      <td>8063.324234</td>\n",
       "      <td>7962.581120</td>\n",
       "      <td>8014.366642</td>\n",
       "      <td>8014.161269</td>\n",
       "      <td>1.347646e+09</td>\n",
       "      <td>3046.729177</td>\n",
       "      <td>0.000339</td>\n",
       "    </tr>\n",
       "    <tr>\n",
       "      <th>std</th>\n",
       "      <td>9140.563404</td>\n",
       "      <td>9196.575802</td>\n",
       "      <td>9082.767802</td>\n",
       "      <td>9140.609758</td>\n",
       "      <td>9140.720456</td>\n",
       "      <td>4.427662e+09</td>\n",
       "      <td>3747.865623</td>\n",
       "      <td>0.013046</td>\n",
       "    </tr>\n",
       "    <tr>\n",
       "      <th>min</th>\n",
       "      <td>54.869999</td>\n",
       "      <td>54.869999</td>\n",
       "      <td>54.869999</td>\n",
       "      <td>54.869999</td>\n",
       "      <td>54.869999</td>\n",
       "      <td>0.000000e+00</td>\n",
       "      <td>10.204900</td>\n",
       "      <td>-0.333304</td>\n",
       "    </tr>\n",
       "    <tr>\n",
       "      <th>25%</th>\n",
       "      <td>2046.887756</td>\n",
       "      <td>2057.213990</td>\n",
       "      <td>2037.185943</td>\n",
       "      <td>2047.506470</td>\n",
       "      <td>2047.358490</td>\n",
       "      <td>0.000000e+00</td>\n",
       "      <td>320.460898</td>\n",
       "      <td>-0.005297</td>\n",
       "    </tr>\n",
       "    <tr>\n",
       "      <th>50%</th>\n",
       "      <td>5772.140137</td>\n",
       "      <td>5812.764892</td>\n",
       "      <td>5725.199951</td>\n",
       "      <td>5773.710205</td>\n",
       "      <td>5773.710205</td>\n",
       "      <td>9.529000e+05</td>\n",
       "      <td>1371.598486</td>\n",
       "      <td>0.000630</td>\n",
       "    </tr>\n",
       "    <tr>\n",
       "      <th>75%</th>\n",
       "      <td>10487.377445</td>\n",
       "      <td>10552.179690</td>\n",
       "      <td>10416.092287</td>\n",
       "      <td>10488.622560</td>\n",
       "      <td>10488.622560</td>\n",
       "      <td>2.064676e+08</td>\n",
       "      <td>4383.045241</td>\n",
       "      <td>0.006354</td>\n",
       "    </tr>\n",
       "    <tr>\n",
       "      <th>max</th>\n",
       "      <td>68775.062500</td>\n",
       "      <td>69403.750000</td>\n",
       "      <td>68516.992190</td>\n",
       "      <td>68775.062500</td>\n",
       "      <td>68775.062500</td>\n",
       "      <td>9.440374e+10</td>\n",
       "      <td>18934.376173</td>\n",
       "      <td>0.188236</td>\n",
       "    </tr>\n",
       "  </tbody>\n",
       "</table>\n",
       "</div>"
      ],
      "text/plain": [
       "                Open           High            Low          Close  \\\n",
       "count  104224.000000  104224.000000  104224.000000  104224.000000   \n",
       "mean     8015.353334    8063.324234    7962.581120    8014.366642   \n",
       "std      9140.563404    9196.575802    9082.767802    9140.609758   \n",
       "min        54.869999      54.869999      54.869999      54.869999   \n",
       "25%      2046.887756    2057.213990    2037.185943    2047.506470   \n",
       "50%      5772.140137    5812.764892    5725.199951    5773.710205   \n",
       "75%     10487.377445   10552.179690   10416.092287   10488.622560   \n",
       "max     68775.062500   69403.750000   68516.992190   68775.062500   \n",
       "\n",
       "           Adj Close        Volume       CloseUSD   Daily_Return  \n",
       "count  104224.000000  1.042240e+05  104224.000000  104211.000000  \n",
       "mean     8014.161269  1.347646e+09    3046.729177       0.000339  \n",
       "std      9140.720456  4.427662e+09    3747.865623       0.013046  \n",
       "min        54.869999  0.000000e+00      10.204900      -0.333304  \n",
       "25%      2047.358490  0.000000e+00     320.460898      -0.005297  \n",
       "50%      5773.710205  9.529000e+05    1371.598486       0.000630  \n",
       "75%     10488.622560  2.064676e+08    4383.045241       0.006354  \n",
       "max     68775.062500  9.440374e+10   18934.376173       0.188236  "
      ]
     },
     "execution_count": 5,
     "metadata": {},
     "output_type": "execute_result"
    }
   ],
   "source": [
    "print('List of Indexes: ', df['Index'].unique())\n",
    "print('-'*55)\n",
    "# Check the date range\n",
    "print(\"Date range:\", df['Date'].min(), \"to\", df['Date'].max())\n",
    "print('-'*55)\n",
    "# Calculate daily returns\n",
    "df['Daily_Return'] = df.groupby('Index')['Close'].pct_change()\n",
    "# Summary statistics\n",
    "df.describe()"
   ]
  },
  {
   "cell_type": "markdown",
   "metadata": {},
   "source": [
    "**2.4 Exploration Data Analysis**\n",
    "\n",
    "Let's explore a few aspects of our stock to get more insights of the indexes we have. Focus will be on these key areas:\n",
    "\n",
    "- **Average Returns**: Let's calculate the mean daily return for each index to indentify those with higher average performance historically\n",
    "- **Annualized Volatility**: Calculate volatility to understand the indexes that have been more or less stable over time\n",
    "- **Visualization**:Visualize daily closing prices for a few indexes to observe general trends over time"
   ]
  },
  {
   "cell_type": "code",
   "execution_count": 6,
   "metadata": {},
   "outputs": [
    {
     "data": {
      "image/png": "[encoded data removed]",
      "text/plain": [
       "<Figure size 720x432 with 1 Axes>"
      ]
     },
     "metadata": {},
     "output_type": "display_data"
    },
    {
     "data": {
      "image/png": "[encoded data removed]",
      "text/plain": [
       "<Figure size 720x432 with 1 Axes>"
      ]
     },
     "metadata": {},
     "output_type": "display_data"
    },
    {
     "data": {
      "image/png": "[encoded data removed]",
      "text/plain": [
       "<Figure size 720x432 with 1 Axes>"
      ]
     },
     "metadata": {},
     "output_type": "display_data"
    }
   ],
   "source": [
    "# 1. Daily Returns\n",
    "# Average daily return for each index\n",
    "average_returns = df.groupby('Index')['Daily_Return'].mean()\n",
    "# Sort values\n",
    "average_returns = average_returns.sort_values(ascending=False)\n",
    "\n",
    "# Plot Daily Avg returns using Seaborn\n",
    "plt.figure(figsize=(10, 6))\n",
    "sns.barplot(x=average_returns.values, y=average_returns.index, color='skyblue')\n",
    "plt.title('Daily Average Returns of Each Index', fontsize=16)\n",
    "plt.xlabel('Daily Average Returns', fontsize=13)\n",
    "plt.ylabel('Stock Index', fontsize=13)\n",
    "plt.show()\n",
    "\n",
    "# 2. Volatility\n",
    "# Calculate annualized volatility (assuming ~252 trading days in a year)\n",
    "annual_volatility = df.groupby('Index')['Daily_Return'].std() * np.sqrt(252)\n",
    "# Sort values\n",
    "annual_volatility = annual_volatility.sort_values(ascending=True)\n",
    "\n",
    "# Plot volatility comparison using Seaborn\n",
    "plt.figure(figsize=(10, 6))\n",
    "sns.barplot(x=annual_volatility.values, y=annual_volatility.index, color='skyblue')\n",
    "plt.title('Annualized Volatility of Each Index', fontsize=16)\n",
    "plt.xlabel('Annual Volatility', fontsize=13)\n",
    "plt.ylabel('Stock Index', fontsize=13)\n",
    "plt.show()\n",
    "\n",
    "# 3. Closing Prices\n",
    "# Closing prices of a specific index over time\n",
    "# Filter for an index\n",
    "stock_index = df[df['Index'] == 'GSPTSE']\n",
    "\n",
    "# Plot closing prices over time using Seaborn\n",
    "plt.figure(figsize=(10, 6))\n",
    "sns.lineplot(x='Date', y='Close', data=stock_index, label=\"GSPTSE\", color=\"blue\")\n",
    "plt.title(\"GSPTSE Closing Prices Over Time\", fontsize=16)\n",
    "plt.xlabel(\"Date\", fontsize=13)\n",
    "plt.ylabel(\"Close Price\", fontsize=13)\n",
    "plt.legend()\n",
    "plt.show()"
   ]
  },
  {
   "cell_type": "markdown",
   "metadata": {},
   "source": [
    "**2.5 Selecting Promising Indexes**\n",
    "\n",
    "We'll use the `average daily returns` and `annualized volatility` calculated above to identify indexes with promising returns and acceptable levels of risk then create a shortlist of 3-5 indexes with favorable performance metrics to focus on in forecasting."
   ]
  },
  {
   "cell_type": "code",
   "execution_count": 7,
   "metadata": {},
   "outputs": [
    {
     "name": "stdout",
     "output_type": "stream",
     "text": [
      "Top indexes based on returns and volatility:\n",
      "            Average_Return  Annual_Volatility\n",
      "NSEI             0.000474           0.227180\n",
      "IXIC             0.000467           0.198867\n",
      "GDAXI            0.000423           0.223143\n",
      "HSI              0.000419           0.256077\n",
      "399001.SZ        0.000372           0.278256\n"
     ]
    }
   ],
   "source": [
    "# Combining returns and volatility into a single DataFrame\n",
    "performance_metrics = pd.DataFrame({\n",
    "    'Average_Return': average_returns,\n",
    "    'Annual_Volatility': annual_volatility\n",
    "})\n",
    "# # Display the indexes sorted by Average Return\n",
    "# print(\"Indexes sorted by average return:\\n\", performance_metrics.sort_values(by=\"Average_Return\", ascending=False))\n",
    "\n",
    "# Shortlist top indexes based on return and volatility criteria\n",
    "top_indexes = performance_metrics.nlargest(5, 'Average_Return')\n",
    "print(\"Top indexes based on returns and volatility:\\n\", top_indexes)\n"
   ]
  },
  {
   "cell_type": "markdown",
   "metadata": {},
   "source": [
    "**Summary of Findings and Preparation for Next Steps**\n",
    "- Based on the historical data, `NSEI` and `IXIC` yielded the highest daily average returns.\n",
    "- `GSPTSE` and `NYA` were the most stable stock over the years showing the least annual volatility rate\n",
    "- Despite `399001.SZ` being among the best (5th) performing indexes in term of daily average returns, it's the most unstable stock with the highest annual volatility rate\n",
    "- Our candidates for short-term forecasting in the next steps will be: `NSEI, IXIC, GDAXI, HSI, 39001.SZ`\n",
    "\n",
    "With our shortlist of promising indexes, we can now move into forecasting, where we’ll project short-term returns for these specific indexes."
   ]
  },
  {
   "cell_type": "markdown",
   "metadata": {},
   "source": [
    "## Step 3. Forecasting Approach\n",
    "**3.1 Forecasting Objective**\n",
    "\n",
    "Our goal is to create a short-term forecasts of daily returns or closing prices for the promising indexes.\n",
    "\n",
    "Forecasting horizon will be 30 days, as specified by the firm's interest in short-term predictions\n",
    "\n",
    "For simplicity and intepretability, our model of choice will be ARIMA (Auto-Regressive Integrated Moving Average) which is well-suited for time series and can provide short-term forecasts\n",
    "\n",
    "**3.2 Prepare Data for Forecasting (Stationarity check)**\n",
    "\n",
    "Let's start with one of the promising indexes and filter data then perform a stationarity check with Augmented Dickey-Fuller which is required for ARIMA models and, if needed, apply transformations to make the data stationary. If p-value < 0.05, the series is stationary, otherwise we may need to difference."
   ]
  },
  {
   "cell_type": "code",
   "execution_count": 8,
   "metadata": {},
   "outputs": [
    {
     "name": "stdout",
     "output_type": "stream",
     "text": [
      "ADF Statistic: 5.226063217091626\n",
      "p-value: 1.0\n"
     ]
    }
   ],
   "source": [
    "# Filter data for a single index\n",
    "index_data = df[df['Index'] == 'IXIC']\n",
    "\n",
    "# Check for stationarity with the ADF test on the closing price\n",
    "result = adfuller(index_data['Close'].dropna())\n",
    "print(\"ADF Statistic:\", result[0])\n",
    "print(\"p-value:\", result[1])"
   ]
  },
  {
   "cell_type": "markdown",
   "metadata": {},
   "source": [
    "With an ADF statistic of 0.619 and a p-value of 0.988, the data is `non-stationary`. This high p-value (greater than 0.05) suggests that we fail to reject the null hypothesis of the ADF test, meaning the series likely has a trend or other non-stationary patterns.\n",
    "\n",
    "For non-stationary data, a common solution is differencing the series to make it stationary. Differencing (i.e., subtract each observation from the previous one) removes trends and helps stabilize the mean of the time series.\n",
    "\n",
    "Let's go ahead and apply differencing and check for stationarity again"
   ]
  },
  {
   "cell_type": "markdown",
   "metadata": {},
   "source": [
    "**3.2.1 Verify Stationarity After Differencing**"
   ]
  },
  {
   "cell_type": "code",
   "execution_count": 9,
   "metadata": {},
   "outputs": [
    {
     "name": "stdout",
     "output_type": "stream",
     "text": [
      "ADF Statistic (Differenced): -16.762101301639316\n",
      "p-value (Differenced): 1.3076139989278008e-29\n"
     ]
    }
   ],
   "source": [
    "# First differencing\n",
    "df['Close_Diff'] = df.groupby('Index')['Close'].diff()\n",
    "\n",
    "# Filter data for the index you're analyzing,\n",
    "index_data_diff = df[df['Index'] == 'IXIC']['Close_Diff'].dropna()\n",
    "\n",
    "# ADF test on differenced data\n",
    "result_diff = adfuller(index_data_diff)\n",
    "print(\"ADF Statistic (Differenced):\", result_diff[0])\n",
    "print(\"p-value (Differenced):\", result_diff[1])\n",
    "\n",
    "# Interpretation: If p-value < 0.05, the differenced series is stationary."
   ]
  },
  {
   "cell_type": "markdown",
   "metadata": {},
   "source": [
    "We won't be differencing our data any further as we can see our p-value is less than 0.05 already implying our data is now stationary and we can proceed to the use it in the ARIMA model"
   ]
  },
  {
   "cell_type": "markdown",
   "metadata": {},
   "source": [
    "**3.3 Model Selection and Parameter Tuning**\n",
    "\n",
    "We'll use the auto_arima function to automatically select the best parameters for the ARIMA model (i.e., the values of p, d, and q). Since we have already differenced the series (making d=1), we only need to find the optimal p and q parameter where:\n",
    "- p is the order of the autoregressive term\n",
    "- q is the order of the moving average term\n",
    "- d is degree of differencing, which is 1 here"
   ]
  },
  {
   "cell_type": "code",
   "execution_count": 22,
   "metadata": {},
   "outputs": [
    {
     "name": "stdout",
     "output_type": "stream",
     "text": [
      "Performing stepwise search to minimize aic\n",
      " ARIMA(2,1,2)(0,0,0)[0] intercept   : AIC=inf, Time=42.08 sec\n",
      " ARIMA(0,1,0)(0,0,0)[0] intercept   : AIC=143234.163, Time=0.48 sec\n",
      " ARIMA(1,1,0)(0,0,0)[0] intercept   : AIC=137946.210, Time=0.97 sec\n",
      " ARIMA(0,1,1)(0,0,0)[0] intercept   : AIC=inf, Time=11.84 sec\n",
      " ARIMA(0,1,0)(0,0,0)[0]             : AIC=143232.163, Time=0.22 sec\n",
      " ARIMA(2,1,0)(0,0,0)[0] intercept   : AIC=136391.080, Time=1.31 sec\n",
      " ARIMA(3,1,0)(0,0,0)[0] intercept   : AIC=135622.706, Time=1.83 sec\n",
      " ARIMA(4,1,0)(0,0,0)[0] intercept   : AIC=135084.272, Time=2.41 sec\n",
      " ARIMA(5,1,0)(0,0,0)[0] intercept   : AIC=134974.004, Time=2.95 sec\n",
      " ARIMA(5,1,1)(0,0,0)[0] intercept   : AIC=inf, Time=25.12 sec\n",
      " ARIMA(4,1,1)(0,0,0)[0] intercept   : AIC=inf, Time=28.54 sec\n",
      " ARIMA(5,1,0)(0,0,0)[0]             : AIC=134972.004, Time=1.27 sec\n",
      " ARIMA(4,1,0)(0,0,0)[0]             : AIC=135082.273, Time=1.91 sec\n",
      " ARIMA(5,1,1)(0,0,0)[0]             : AIC=inf, Time=19.68 sec\n",
      " ARIMA(4,1,1)(0,0,0)[0]             : AIC=inf, Time=14.98 sec\n",
      "\n",
      "Best model:  ARIMA(5,1,0)(0,0,0)[0]          \n",
      "Total fit time: 155.628 seconds\n",
      "Optimal ARIMA Model order:                                SARIMAX Results                                \n",
      "==============================================================================\n",
      "Dep. Variable:                      y   No. Observations:                12689\n",
      "Model:               SARIMAX(5, 1, 0)   Log Likelihood              -67480.002\n",
      "Date:                Mon, 11 Nov 2024   AIC                         134972.004\n",
      "Time:                        13:00:49   BIC                         135016.695\n",
      "Sample:                             0   HQIC                        134986.955\n",
      "                              - 12689                                         \n",
      "Covariance Type:                  opg                                         \n",
      "==============================================================================\n",
      "                 coef    std err          z      P>|z|      [0.025      0.975]\n",
      "------------------------------------------------------------------------------\n",
      "ar.L1         -0.9335      0.002   -422.829      0.000      -0.938      -0.929\n",
      "ar.L2         -0.6772      0.003   -205.677      0.000      -0.684      -0.671\n",
      "ar.L3         -0.4792      0.004   -128.631      0.000      -0.486      -0.472\n",
      "ar.L4         -0.2900      0.003    -82.963      0.000      -0.297      -0.283\n",
      "ar.L5         -0.0939      0.002    -42.227      0.000      -0.098      -0.090\n",
      "sigma2      2438.7865      6.691    364.489      0.000    2425.672    2451.901\n",
      "===================================================================================\n",
      "Ljung-Box (L1) (Q):                   6.79   Jarque-Bera (JB):           1185230.17\n",
      "Prob(Q):                              0.01   Prob(JB):                         0.00\n",
      "Heteroskedasticity (H):            1491.65   Skew:                             0.54\n",
      "Prob(H) (two-sided):                  0.00   Kurtosis:                        50.34\n",
      "===================================================================================\n",
      "\n",
      "Warnings:\n",
      "[1] Covariance matrix calculated using the outer product of gradients (complex-step).\n",
      "Optimal parameters: p=5, d=1, q=0\n"
     ]
    }
   ],
   "source": [
    "# Apply auto_arima to the differenced data to select p and q\n",
    "model = pm.auto_arima(index_data_diff, seasonal=False, trace=True, suppress_warnings=True, n_jobs=-1, max_p=5, max_q=5, d=1)\n",
    "\n",
    "# Print the optimal parameters found\n",
    "print(f\"Optimal ARIMA Model order: {model.summary()}\")\n",
    "\n",
    "# Get the optimal p, d, q values\n",
    "p, d, q = model.order\n",
    "print(f\"Optimal parameters: p={p}, d={d}, q={q}\")"
   ]
  },
  {
   "cell_type": "markdown",
   "metadata": {},
   "source": [
    "**3.4: Rolling Backtesting for Evaluation**\n",
    "\n",
    "We'll use 100 observations for rolling_window_size to train the model. Forecast one period ahead, then shift the window by one observation and repeat.\n",
    "This iterative approach provides a better understanding of model performance over multiple points."
   ]
  },
  {
   "cell_type": "code",
   "execution_count": 24,
   "metadata": {},
   "outputs": [
    {
     "name": "stdout",
     "output_type": "stream",
     "text": [
      "Using ARIMA parameters: p=5, d=1, q=0\n",
      "Mean Absolute Error (MAE): 21.84613141211075\n"
     ]
    }
   ],
   "source": [
    "print(f\"Using ARIMA parameters: p={p}, d={d}, q={q}\")\n",
    "\n",
    "# Define your rolling window size and forecast horizon\n",
    "rolling_window_size = 100  # Example, adjust based on your dataset\n",
    "forecast_horizon = 1  # Example, forecasting 1 step ahead for simplicity\n",
    "\n",
    "# Create lists to store forecast and actual results\n",
    "forecast_results = []\n",
    "actual_results = []\n",
    "\n",
    "# Loop through the data for rolling window\n",
    "for start in range(len(index_data_diff) - rolling_window_size - forecast_horizon + 1):\n",
    "    # Define rolling window and test point\n",
    "    train_window = index_data_diff.iloc[start:start + rolling_window_size]\n",
    "    test_point = index_data_diff.iloc[start + rolling_window_size]\n",
    "    \n",
    "    # Fit ARIMA to the rolling window using the fixed p, d, q\n",
    "    model = ARIMA(train_window, order=(p, d, q))  # d=1 because we differenced once\n",
    "    fitted_model = model.fit()\n",
    "    \n",
    "    # Forecast one step ahead\n",
    "    forecast = fitted_model.forecast(steps=forecast_horizon)\n",
    "    \n",
    "    # Ensure forecast is an array or Series and extract the first value\n",
    "    forecast_value = forecast[0] if isinstance(forecast, np.ndarray) else forecast.iloc[0]\n",
    "    \n",
    "    # Append forecasted and actual values\n",
    "    forecast_results.append(forecast_value)\n",
    "    actual_results.append(test_point)\n",
    "\n",
    "# Convert results to Series for easier comparison\n",
    "forecast_series = pd.Series(forecast_results, index=index_data_diff.iloc[rolling_window_size:].index)\n",
    "actual_series = pd.Series(actual_results, index=index_data_diff.iloc[rolling_window_size:].index)\n",
    "\n",
    "# Calculate and print Mean Absolute Error (MAE)\n",
    "mae = mean_absolute_error(actual_series, forecast_series)\n",
    "print(f\"Mean Absolute Error (MAE): {mae}\")"
   ]
  },
  {
   "cell_type": "code",
   "execution_count": 41,
   "metadata": {},
   "outputs": [
    {
     "name": "stdout",
     "output_type": "stream",
     "text": [
      "Mean Squared Error (MSE): 2704.6207026238285\n",
      "Mean Absolute Percentage Error (MAPE): 3712819194.5346107%\n",
      "Root Mean Squared Error (RMSE): 52.005967951994016\n"
     ]
    }
   ],
   "source": [
    "# Calculate and print Mean Squared Error (MSE)\n",
    "mse = mean_squared_error(actual_series, forecast_series)\n",
    "print(f\"Mean Squared Error (MSE): {mse}\")\n",
    "epsilon = 1e-10  # Small constant to avoid division by zero\n",
    "mape = np.mean(np.abs((forecast_series - actual_series) / (actual_series + epsilon))) * 100\n",
    "print(f\"Mean Absolute Percentage Error (MAPE): {mape}%\")\n",
    "rmse = np.sqrt(mean_squared_error(actual_series, forecast_series))\n",
    "print(f\"Root Mean Squared Error (RMSE): {rmse}\")"
   ]
  },
  {
   "cell_type": "markdown",
   "metadata": {},
   "source": [
    "- On average, my model's forecasts are off by about 21.846 units from the actual values. Whether this is good or bad depends on the context of your data. If your stock index values range widely, this could be an acceptable error, but if your values are relatively small, it might signal room for improvement\n",
    "- MSE penalizes large errors more heavily than MAE due to squaring the error term. The value here is quite large, indicating that there are some significant deviations in your predictions, possibly due to outliers or large errors in a few points.\n",
    "- The MAPE value is extremely high, indicating a severe issue. Typically, a percentage error of such magnitude can be caused by several factors:\n",
    "\n",
    "   * Very large actual values or extreme outliers.\n",
    "   * Zero or near-zero values in the denominator (actual values) that cause division by zero or near-zero values.\n",
    "   * Transformation issues, using differenced data with original data\n",
    "- RMSE is sensitive to large errors and is often more useful when large deviations matter. A value of 52.01 suggests that there is some substantial error in the predictions. Since it’s derived from the MSE, it confirms that there are a few large errors in the model."
   ]
  },
  {
   "cell_type": "markdown",
   "metadata": {},
   "source": [
    "**3.5: Visualize Forecasting Results**\n",
    "\n",
    "Create a plot to compare your rolling forecast against the actual differenced values."
   ]
  },
  {
   "cell_type": "code",
   "execution_count": 36,
   "metadata": {},
   "outputs": [
    {
     "data": {
      "image/png": "[encoded data removed]",
      "text/plain": [
       "<Figure size 720x432 with 1 Axes>"
      ]
     },
     "metadata": {},
     "output_type": "display_data"
    }
   ],
   "source": [
    "# Plot the forecast vs actual values\n",
    "import matplotlib.pyplot as plt\n",
    "plt.figure(figsize=(10, 6))\n",
    "plt.plot(forecast_series, label=\"Forecast\")\n",
    "plt.plot(actual_series, label=\"Actual\", alpha=0.6)\n",
    "plt.title(\"Rolling Forecast vs Actual Values\")\n",
    "plt.xlabel(\"Date\")\n",
    "plt.ylabel(\"Forecasted Values\")\n",
    "plt.legend()\n",
    "plt.show()"
   ]
  },
  {
   "cell_type": "markdown",
   "metadata": {},
   "source": [
    "**3.6 Interpret Results and Forecast Performance**\n",
    "\n",
    "- **Accuracy Evaluation**: Summarize performance metrics like Mean Absolute Error (MAE) or Mean Squared Error (MSE).\n",
    "- **Insights**: Briefly discuss the forecast accuracy and any patterns you observe in the forecast vs. actual plot.\n",
    "- **Model Refinement**: If accuracy is unsatisfactory, consider trying other models, re-evaluating parameters, or further optimizing the ARIMA model.\n",
    "\n",
    "**3.7 Conclusion for Forecasting Step**\n",
    "\n",
    "Summarize the performance of your model, highlighting whether it provides reliable forecasts. Discuss whether this forecasting model and method might be useful in guiding investment decisions, noting any limitations encountered.\n",
    "This backtesting-focused approach provides a more reliable model evaluation, reinforcing the credibility of your forecasting insights for investment purposes."
   ]
  }
 ],
 "metadata": {
  "kernelspec": {
   "display_name": "learn-env",
   "language": "python",
   "name": "python3"
  },
  "language_info": {
   "codemirror_mode": {
    "name": "ipython",
    "version": 3
   },
   "file_extension": ".py",
   "mimetype": "text/x-python",
   "name": "python",
   "nbconvert_exporter": "python",
   "pygments_lexer": "ipython3",
   "version": "3.8.5"
  }
 },
 "nbformat": 4,
 "nbformat_minor": 2
}
