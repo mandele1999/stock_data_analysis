{
 "cells": [
  {
   "cell_type": "markdown",
   "metadata": {},
   "source": [
    "# Stock Exchange Data\n",
    "This dataset consists of stock exchange data since 1965 for several indexes. It contains the daily stock prices along with the volume traded each day.\n",
    "\n",
    "## Data Dictionary\n",
    "| Column            | Explanation                                                                                             |\n",
    "| ----------------- | ------------------------------------------------------------------------------------------------------- |\n",
    "| Index             | Ticker symbol for indexes\n",
    "| Date              | Data of observation\n",
    "| Open              | Opening price\n",
    "| High              | Highest price during trading day\n",
    "| Low               | Lowest price during trading day\n",
    "| Close             | Close price\n",
    "| Adj Close         | Close price adjusted for stock splits and dividends\n",
    "| Volume            | Number of shares traded during trading day\n",
    "| CloseUSD          | Close price in terms of USD"
   ]
  },
  {
   "cell_type": "markdown",
   "metadata": {},
   "source": [
    "## Objectives:\n",
    "\n",
    "- **Explore**: Identify the index with the *highest average annual return* \n",
    "- **Visualize**: Visualize a *30-day moving average* for an index of choice \n",
    "- **Analyze**: *Compare the volatilities* of the indexes in the dataset \n"
   ]
  },
  {
   "cell_type": "markdown",
   "metadata": {},
   "source": [
    "## Step 1. Load and Inspect the Data\n",
    "\n",
    "1. Import Libraries"
   ]
  },
  {
   "cell_type": "code",
   "execution_count": 33,
   "metadata": {},
   "outputs": [],
   "source": [
    "# Import libraries\n",
    "import pandas as pd\n",
    "import numpy as np\n",
    "\n",
    "import matplotlib.pyplot as plt\n",
    "import seaborn as sns"
   ]
  },
  {
   "cell_type": "markdown",
   "metadata": {},
   "source": [
    "2. Load Data"
   ]
  },
  {
   "cell_type": "code",
   "execution_count": 34,
   "metadata": {},
   "outputs": [],
   "source": [
    "# Load data\n",
    "stock = pd.read_csv('data\\stock_data.csv')"
   ]
  },
  {
   "cell_type": "markdown",
   "metadata": {},
   "source": [
    "3. Inspect the Data\n",
    "\n",
    "We'll check the overview of the data inspecting the datatypes, distribution of column values, shape of dataset, for any missing values"
   ]
  },
  {
   "cell_type": "code",
   "execution_count": 35,
   "metadata": {},
   "outputs": [
    {
     "name": "stdout",
     "output_type": "stream",
     "text": [
      "{'Number of Records': 104224, 'Number of Columns': 9, 'Missing Values': Index        0\n",
      "Date         0\n",
      "Open         0\n",
      "High         0\n",
      "Low          0\n",
      "Close        0\n",
      "Adj Close    0\n",
      "Volume       0\n",
      "CloseUSD     0\n",
      "dtype: int64}\n"
     ]
    }
   ],
   "source": [
    "summary = {\n",
    "    'Number of Records': stock.shape[0],\n",
    "    'Number of Columns': stock.shape[1],\n",
    "    'Missing Values': stock.isnull().sum()\n",
    "}\n",
    "print(summary)"
   ]
  },
  {
   "cell_type": "code",
   "execution_count": 36,
   "metadata": {},
   "outputs": [
    {
     "name": "stdout",
     "output_type": "stream",
     "text": [
      "<class 'pandas.core.frame.DataFrame'>\n",
      "RangeIndex: 104224 entries, 0 to 104223\n",
      "Data columns (total 9 columns):\n",
      " #   Column     Non-Null Count   Dtype  \n",
      "---  ------     --------------   -----  \n",
      " 0   Index      104224 non-null  object \n",
      " 1   Date       104224 non-null  object \n",
      " 2   Open       104224 non-null  float64\n",
      " 3   High       104224 non-null  float64\n",
      " 4   Low        104224 non-null  float64\n",
      " 5   Close      104224 non-null  float64\n",
      " 6   Adj Close  104224 non-null  float64\n",
      " 7   Volume     104224 non-null  float64\n",
      " 8   CloseUSD   104224 non-null  float64\n",
      "dtypes: float64(7), object(2)\n",
      "memory usage: 7.2+ MB\n"
     ]
    }
   ],
   "source": [
    "stock.info()"
   ]
  },
  {
   "cell_type": "code",
   "execution_count": 37,
   "metadata": {},
   "outputs": [
    {
     "data": {
      "text/html": [
       "<div>\n",
       "<style scoped>\n",
       "    .dataframe tbody tr th:only-of-type {\n",
       "        vertical-align: middle;\n",
       "    }\n",
       "\n",
       "    .dataframe tbody tr th {\n",
       "        vertical-align: top;\n",
       "    }\n",
       "\n",
       "    .dataframe thead th {\n",
       "        text-align: right;\n",
       "    }\n",
       "</style>\n",
       "<table border=\"1\" class=\"dataframe\">\n",
       "  <thead>\n",
       "    <tr style=\"text-align: right;\">\n",
       "      <th></th>\n",
       "      <th>Open</th>\n",
       "      <th>High</th>\n",
       "      <th>Low</th>\n",
       "      <th>Close</th>\n",
       "      <th>Adj Close</th>\n",
       "      <th>Volume</th>\n",
       "      <th>CloseUSD</th>\n",
       "    </tr>\n",
       "  </thead>\n",
       "  <tbody>\n",
       "    <tr>\n",
       "      <th>count</th>\n",
       "      <td>104224.000000</td>\n",
       "      <td>104224.000000</td>\n",
       "      <td>104224.000000</td>\n",
       "      <td>104224.000000</td>\n",
       "      <td>104224.000000</td>\n",
       "      <td>1.042240e+05</td>\n",
       "      <td>104224.000000</td>\n",
       "    </tr>\n",
       "    <tr>\n",
       "      <th>mean</th>\n",
       "      <td>8015.353334</td>\n",
       "      <td>8063.324234</td>\n",
       "      <td>7962.581120</td>\n",
       "      <td>8014.366642</td>\n",
       "      <td>8014.161269</td>\n",
       "      <td>1.347646e+09</td>\n",
       "      <td>3046.729177</td>\n",
       "    </tr>\n",
       "    <tr>\n",
       "      <th>std</th>\n",
       "      <td>9140.563404</td>\n",
       "      <td>9196.575802</td>\n",
       "      <td>9082.767802</td>\n",
       "      <td>9140.609758</td>\n",
       "      <td>9140.720456</td>\n",
       "      <td>4.427662e+09</td>\n",
       "      <td>3747.865623</td>\n",
       "    </tr>\n",
       "    <tr>\n",
       "      <th>min</th>\n",
       "      <td>54.869999</td>\n",
       "      <td>54.869999</td>\n",
       "      <td>54.869999</td>\n",
       "      <td>54.869999</td>\n",
       "      <td>54.869999</td>\n",
       "      <td>0.000000e+00</td>\n",
       "      <td>10.204900</td>\n",
       "    </tr>\n",
       "    <tr>\n",
       "      <th>25%</th>\n",
       "      <td>2046.887756</td>\n",
       "      <td>2057.213990</td>\n",
       "      <td>2037.185943</td>\n",
       "      <td>2047.506470</td>\n",
       "      <td>2047.358490</td>\n",
       "      <td>0.000000e+00</td>\n",
       "      <td>320.460898</td>\n",
       "    </tr>\n",
       "    <tr>\n",
       "      <th>50%</th>\n",
       "      <td>5772.140137</td>\n",
       "      <td>5812.764892</td>\n",
       "      <td>5725.199951</td>\n",
       "      <td>5773.710205</td>\n",
       "      <td>5773.710205</td>\n",
       "      <td>9.529000e+05</td>\n",
       "      <td>1371.598486</td>\n",
       "    </tr>\n",
       "    <tr>\n",
       "      <th>75%</th>\n",
       "      <td>10487.377445</td>\n",
       "      <td>10552.179690</td>\n",
       "      <td>10416.092287</td>\n",
       "      <td>10488.622560</td>\n",
       "      <td>10488.622560</td>\n",
       "      <td>2.064676e+08</td>\n",
       "      <td>4383.045241</td>\n",
       "    </tr>\n",
       "    <tr>\n",
       "      <th>max</th>\n",
       "      <td>68775.062500</td>\n",
       "      <td>69403.750000</td>\n",
       "      <td>68516.992190</td>\n",
       "      <td>68775.062500</td>\n",
       "      <td>68775.062500</td>\n",
       "      <td>9.440374e+10</td>\n",
       "      <td>18934.376173</td>\n",
       "    </tr>\n",
       "  </tbody>\n",
       "</table>\n",
       "</div>"
      ],
      "text/plain": [
       "                Open           High            Low          Close  \\\n",
       "count  104224.000000  104224.000000  104224.000000  104224.000000   \n",
       "mean     8015.353334    8063.324234    7962.581120    8014.366642   \n",
       "std      9140.563404    9196.575802    9082.767802    9140.609758   \n",
       "min        54.869999      54.869999      54.869999      54.869999   \n",
       "25%      2046.887756    2057.213990    2037.185943    2047.506470   \n",
       "50%      5772.140137    5812.764892    5725.199951    5773.710205   \n",
       "75%     10487.377445   10552.179690   10416.092287   10488.622560   \n",
       "max     68775.062500   69403.750000   68516.992190   68775.062500   \n",
       "\n",
       "           Adj Close        Volume       CloseUSD  \n",
       "count  104224.000000  1.042240e+05  104224.000000  \n",
       "mean     8014.161269  1.347646e+09    3046.729177  \n",
       "std      9140.720456  4.427662e+09    3747.865623  \n",
       "min        54.869999  0.000000e+00      10.204900  \n",
       "25%      2047.358490  0.000000e+00     320.460898  \n",
       "50%      5773.710205  9.529000e+05    1371.598486  \n",
       "75%     10488.622560  2.064676e+08    4383.045241  \n",
       "max     68775.062500  9.440374e+10   18934.376173  "
      ]
     },
     "execution_count": 37,
     "metadata": {},
     "output_type": "execute_result"
    }
   ],
   "source": [
    "# Statistical summary\n",
    "stock.describe()"
   ]
  },
  {
   "cell_type": "markdown",
   "metadata": {},
   "source": [
    "The dataset looks fairly clean so far, there are no missing values, and apart from Date column, all other columns have the correct data types representation. Let's visualize the column distributions to better understand what our values look like and see if there exists outliers in our data."
   ]
  },
  {
   "cell_type": "code",
   "execution_count": 54,
   "metadata": {},
   "outputs": [],
   "source": [
    "# # Plot histogram\n",
    "# def plot_numerical_distributions(df, plot_type='hist', bins=20, ncols=3):\n",
    "#     # Select only numerical columns\n",
    "#     numerical_columns = df.select_dtypes(include=['number']).columns\n",
    "    \n",
    "#     # Calculate number of rows needed for the subplots grid\n",
    "#     nrows = int(np.ceil(len(numerical_columns) / ncols))  # Round up to next integer\n",
    "    \n",
    "#     # Set the size of the plot\n",
    "#     plt.figure(figsize=(ncols * 5, nrows * 4))  # Adjust figure size dynamically based on columns and rows\n",
    "    \n",
    "#     # Plot distributions for each numerical column\n",
    "#     for i, col in enumerate(numerical_columns, 1):\n",
    "#         plt.subplot(nrows, ncols, i)  # Positioning for subplots\n",
    "#         if plot_type == 'hist':\n",
    "#             sns.histplot(df[col], kde=True, bins=bins, color='skyblue', edgecolor='black')\n",
    "#             plt.title(f\"Histogram of {col}\")\n",
    "#         elif plot_type == 'box':\n",
    "#             sns.boxplot(data=df, x=col, color='lightblue')\n",
    "#             plt.title(f\"Boxplot of {col}\")\n",
    "    \n",
    "#     # Adjust layout and show plot\n",
    "#     plt.tight_layout()\n",
    "#     plt.show()"
   ]
  },
  {
   "cell_type": "code",
   "execution_count": 55,
   "metadata": {},
   "outputs": [],
   "source": [
    "# def plot_numerical_distributions(df, plot_type='box', bins=20, ncols=4):\n",
    "#     numerical_columns = df.select_dtypes(include=['number']).columns\n",
    "#     # Calculate number of rows needed for the subplots grid\n",
    "#     nrows = int(np.ceil(len(numerical_columns) / ncols))  # Round up to next integer\n",
    "    \n",
    "#     # Set the size of the plot\n",
    "#     plt.figure(figsize=(ncols * 5, nrows * 4))  # Adjust figure size dynamically based on columns and rows\n",
    "    \n",
    "#     # Plot distributions for each numerical column\n",
    "#     for i, col in enumerate(numerical_columns, 1):\n",
    "#         plt.subplot(nrows, ncols, i)  # Positioning for subplots\n",
    "#         if plot_type == 'hist':\n",
    "#             sns.histplot(df[col], kde=True, bins=bins, color='skyblue', edgecolor='black')\n",
    "#             plt.title(f\"Histogram of {col}\")\n",
    "#         elif plot_type == 'box':\n",
    "#             sns.boxplot(data=df, x=col, color='lightblue')\n",
    "#             plt.title(f\"Boxplot of {col}\")\n",
    "    \n",
    "#     # Adjust layout and show plot\n",
    "#     plt.tight_layout()\n",
    "#     plt.show()"
   ]
  },
  {
   "cell_type": "code",
   "execution_count": 56,
   "metadata": {},
   "outputs": [],
   "source": [
    "# # Plots distributions\n",
    "# plot_numerical_distributions(stock, 'hist')\n",
    "# plot_numerical_distributions(stock, 'box')"
   ]
  },
  {
   "cell_type": "markdown",
   "metadata": {},
   "source": [
    "The dataset appears to be quite skewed and there are outliers in every column. We'll keep that in mind for the later steps. For now let's inspect our Index column which is our only categorical column."
   ]
  },
  {
   "cell_type": "code",
   "execution_count": 57,
   "metadata": {},
   "outputs": [],
   "source": [
    "# print(stock['Index'].unique())\n",
    "# print()\n",
    "# print(f'Number of Unique Stock Indexes:',len(stock['Index'].unique()))\n",
    "# print()\n",
    "# print(stock['Index'].value_counts())\n"
   ]
  },
  {
   "cell_type": "markdown",
   "metadata": {},
   "source": [
    "4. Convert Date Column"
   ]
  },
  {
   "cell_type": "code",
   "execution_count": 58,
   "metadata": {},
   "outputs": [],
   "source": [
    "stock['Date'] = pd.to_datetime(stock['Date'])\n",
    "# stock.info()"
   ]
  },
  {
   "cell_type": "markdown",
   "metadata": {},
   "source": [
    "## Step 2: Explore - Identify the Index with the Highest Average Annual Return\n",
    "\n",
    "1. Calculate Daily Returns"
   ]
  },
  {
   "cell_type": "code",
   "execution_count": 45,
   "metadata": {},
   "outputs": [],
   "source": [
    "# Group by \"Index\" and sort by \"Date\" to calculate daily returns.\n",
    "stock.sort_values(by=['Index', 'Date'], inplace=True)\n",
    "stock['Daily_Return'] = stock.groupby('Index')['Close'].pct_change()"
   ]
  },
  {
   "cell_type": "markdown",
   "metadata": {},
   "source": [
    "2. Calculate Annual Returns and their Means:"
   ]
  },
  {
   "cell_type": "code",
   "execution_count": 46,
   "metadata": {},
   "outputs": [],
   "source": [
    "# Extract the year from the \"Date\" column to facilitate annual calculations\n",
    "stock['Year'] = stock['Date'].dt.year\n",
    "# Grouping by both \"Index\" and \"Year,\" and then taking the mean of daily returns.\n",
    "annual_returns = stock.groupby(['Index', 'Year'])['Daily_Return'].mean()\n",
    "# Mean annual return across years for each index\n",
    "avg_annual_return = annual_returns.groupby('Index').mean()"
   ]
  },
  {
   "cell_type": "code",
   "execution_count": 47,
   "metadata": {},
   "outputs": [
    {
     "name": "stdout",
     "output_type": "stream",
     "text": [
      "The index with the highest average annual return is NSEI with a return of 0.07%\n"
     ]
    }
   ],
   "source": [
    "# Index with the highest average annual return\n",
    "highest_avg_return_index = avg_annual_return.idxmax()\n",
    "highest_avg_return_value = avg_annual_return.max()\n",
    "print(f\"The index with the highest average annual return is {highest_avg_return_index} with a return of {highest_avg_return_value:.2%}\")\n"
   ]
  },
  {
   "cell_type": "markdown",
   "metadata": {},
   "source": [
    "## Step 3: Visualize - 30-Day Moving Average for an Index"
   ]
  },
  {
   "cell_type": "code",
   "execution_count": 53,
   "metadata": {},
   "outputs": [
    {
     "data": {
      "image/png": "[encoded data removed]",
      "text/plain": [
       "<Figure size 864x432 with 1 Axes>"
      ]
     },
     "metadata": {
      "needs_background": "light"
     },
     "output_type": "display_data"
    }
   ],
   "source": [
    "# Choose an Index\n",
    "chosen_index = 'NYA'\n",
    "selected_stock = stock[stock['Index'] == chosen_index].copy()\n",
    "# Calculate the 30-Day Moving Average\n",
    "selected_stock['30_day_MA'] = selected_stock['Close'].rolling(window=30).mean()\n",
    "\n",
    "# Plot the Moving Average\n",
    "plt.figure(figsize=(12, 6))\n",
    "plt.plot(selected_stock['Date'], selected_stock['Close'], label='Close Price', alpha=0.5)\n",
    "plt.plot(selected_stock['Date'], selected_stock['30_day_MA'], label='30-Day Moving Average', color='orange')\n",
    "plt.title(f'30-Day Moving Average for {chosen_index}')\n",
    "plt.xlabel('Date')\n",
    "plt.ylabel('Price')\n",
    "plt.legend()\n",
    "plt.show()\n"
   ]
  },
  {
   "cell_type": "markdown",
   "metadata": {},
   "source": [
    "## Step 4: Analyze - Compare Volatilities of the Indexes"
   ]
  },
  {
   "cell_type": "code",
   "execution_count": 51,
   "metadata": {},
   "outputs": [
    {
     "data": {
      "image/png": "[encoded data removed]",
      "text/plain": [
       "<Figure size 720x432 with 1 Axes>"
      ]
     },
     "metadata": {
      "needs_background": "light"
     },
     "output_type": "display_data"
    }
   ],
   "source": [
    "# Calculate daily volatility - stdev of daily returns per index\n",
    "volatility = stock.groupby('Index')['Daily_Return'].std()\n",
    "# Annualize volatility\n",
    "annual_volatility = volatility * np.sqrt(252)\n",
    "\n",
    "# Plot volatility comparison\n",
    "annual_volatility.plot(kind='bar', figsize=(10, 6), color='teal')\n",
    "plt.title('Annualized Volatility of Each Index')\n",
    "plt.xlabel('Index')\n",
    "plt.ylabel('Annual Volatility')\n",
    "plt.show()"
   ]
  },
  {
   "cell_type": "code",
   "execution_count": 52,
   "metadata": {},
   "outputs": [
    {
     "data": {
      "text/html": [
       "<div>\n",
       "<style scoped>\n",
       "    .dataframe tbody tr th:only-of-type {\n",
       "        vertical-align: middle;\n",
       "    }\n",
       "\n",
       "    .dataframe tbody tr th {\n",
       "        vertical-align: top;\n",
       "    }\n",
       "\n",
       "    .dataframe thead th {\n",
       "        text-align: right;\n",
       "    }\n",
       "</style>\n",
       "<table border=\"1\" class=\"dataframe\">\n",
       "  <thead>\n",
       "    <tr style=\"text-align: right;\">\n",
       "      <th></th>\n",
       "      <th>Index</th>\n",
       "      <th>Date</th>\n",
       "      <th>Open</th>\n",
       "      <th>High</th>\n",
       "      <th>Low</th>\n",
       "      <th>Close</th>\n",
       "      <th>Adj Close</th>\n",
       "      <th>Volume</th>\n",
       "      <th>CloseUSD</th>\n",
       "      <th>Daily_Return</th>\n",
       "      <th>Year</th>\n",
       "    </tr>\n",
       "  </thead>\n",
       "  <tbody>\n",
       "    <tr>\n",
       "      <th>35129</th>\n",
       "      <td>000001.SS</td>\n",
       "      <td>1997-07-02</td>\n",
       "      <td>1255.909058</td>\n",
       "      <td>1261.571045</td>\n",
       "      <td>1147.331055</td>\n",
       "      <td>1199.061035</td>\n",
       "      <td>1199.061035</td>\n",
       "      <td>0.0</td>\n",
       "      <td>191.849766</td>\n",
       "      <td>NaN</td>\n",
       "      <td>1997</td>\n",
       "    </tr>\n",
       "    <tr>\n",
       "      <th>35130</th>\n",
       "      <td>000001.SS</td>\n",
       "      <td>1997-07-03</td>\n",
       "      <td>1194.676025</td>\n",
       "      <td>1194.676025</td>\n",
       "      <td>1149.939941</td>\n",
       "      <td>1150.623047</td>\n",
       "      <td>1150.623047</td>\n",
       "      <td>0.0</td>\n",
       "      <td>184.099688</td>\n",
       "      <td>-0.040397</td>\n",
       "      <td>1997</td>\n",
       "    </tr>\n",
       "    <tr>\n",
       "      <th>35131</th>\n",
       "      <td>000001.SS</td>\n",
       "      <td>1997-07-04</td>\n",
       "      <td>1138.921021</td>\n",
       "      <td>1163.249023</td>\n",
       "      <td>1124.776001</td>\n",
       "      <td>1159.342041</td>\n",
       "      <td>1159.342041</td>\n",
       "      <td>0.0</td>\n",
       "      <td>185.494727</td>\n",
       "      <td>0.007578</td>\n",
       "      <td>1997</td>\n",
       "    </tr>\n",
       "    <tr>\n",
       "      <th>35132</th>\n",
       "      <td>000001.SS</td>\n",
       "      <td>1997-07-07</td>\n",
       "      <td>1161.707031</td>\n",
       "      <td>1163.447021</td>\n",
       "      <td>1085.572021</td>\n",
       "      <td>1096.818970</td>\n",
       "      <td>1096.818970</td>\n",
       "      <td>0.0</td>\n",
       "      <td>175.491035</td>\n",
       "      <td>-0.053930</td>\n",
       "      <td>1997</td>\n",
       "    </tr>\n",
       "    <tr>\n",
       "      <th>35133</th>\n",
       "      <td>000001.SS</td>\n",
       "      <td>1997-07-08</td>\n",
       "      <td>1092.798950</td>\n",
       "      <td>1115.432983</td>\n",
       "      <td>1066.043945</td>\n",
       "      <td>1109.666016</td>\n",
       "      <td>1109.666016</td>\n",
       "      <td>0.0</td>\n",
       "      <td>177.546563</td>\n",
       "      <td>0.011713</td>\n",
       "      <td>1997</td>\n",
       "    </tr>\n",
       "  </tbody>\n",
       "</table>\n",
       "</div>"
      ],
      "text/plain": [
       "           Index       Date         Open         High          Low  \\\n",
       "35129  000001.SS 1997-07-02  1255.909058  1261.571045  1147.331055   \n",
       "35130  000001.SS 1997-07-03  1194.676025  1194.676025  1149.939941   \n",
       "35131  000001.SS 1997-07-04  1138.921021  1163.249023  1124.776001   \n",
       "35132  000001.SS 1997-07-07  1161.707031  1163.447021  1085.572021   \n",
       "35133  000001.SS 1997-07-08  1092.798950  1115.432983  1066.043945   \n",
       "\n",
       "             Close    Adj Close  Volume    CloseUSD  Daily_Return  Year  \n",
       "35129  1199.061035  1199.061035     0.0  191.849766           NaN  1997  \n",
       "35130  1150.623047  1150.623047     0.0  184.099688     -0.040397  1997  \n",
       "35131  1159.342041  1159.342041     0.0  185.494727      0.007578  1997  \n",
       "35132  1096.818970  1096.818970     0.0  175.491035     -0.053930  1997  \n",
       "35133  1109.666016  1109.666016     0.0  177.546563      0.011713  1997  "
      ]
     },
     "execution_count": 52,
     "metadata": {},
     "output_type": "execute_result"
    }
   ],
   "source": [
    "stock.head()"
   ]
  }
 ],
 "metadata": {
  "kernelspec": {
   "display_name": "learn-env",
   "language": "python",
   "name": "python3"
  },
  "language_info": {
   "codemirror_mode": {
    "name": "ipython",
    "version": 3
   },
   "file_extension": ".py",
   "mimetype": "text/x-python",
   "name": "python",
   "nbconvert_exporter": "python",
   "pygments_lexer": "ipython3",
   "version": "3.8.5"
  }
 },
 "nbformat": 4,
 "nbformat_minor": 2
}
